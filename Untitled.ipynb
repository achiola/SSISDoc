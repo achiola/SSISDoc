{
 "cells": [
  {
   "cell_type": "code",
   "execution_count": 2,
   "id": "bc49a9c4-d178-4f1e-aec6-891c478e8d42",
   "metadata": {
    "execution": {
     "iopub.execute_input": "2022-08-24T19:55:02.532141Z",
     "iopub.status.busy": "2022-08-24T19:55:02.532141Z",
     "iopub.status.idle": "2022-08-24T19:55:02.583430Z",
     "shell.execute_reply": "2022-08-24T19:55:02.580490Z",
     "shell.execute_reply.started": "2022-08-24T19:55:02.532141Z"
    },
    "tags": []
   },
   "outputs": [],
   "source": [
    "import xml.etree.ElementTree as ET"
   ]
  },
  {
   "cell_type": "code",
   "execution_count": 24,
   "id": "5a860d5d-ec32-4333-8a58-c45f7cb2407f",
   "metadata": {
    "execution": {
     "iopub.execute_input": "2022-08-24T20:06:48.490036Z",
     "iopub.status.busy": "2022-08-24T20:06:48.489018Z",
     "iopub.status.idle": "2022-08-24T20:06:48.513385Z",
     "shell.execute_reply": "2022-08-24T20:06:48.508928Z",
     "shell.execute_reply.started": "2022-08-24T20:06:48.490036Z"
    },
    "tags": []
   },
   "outputs": [],
   "source": [
    "def xml2py(node):\n",
    "    \"\"\"\n",
    "    convert xml to python object\n",
    "    node: xml.etree.ElementTree object\n",
    "    \"\"\"\n",
    "\n",
    "    name = node.tag\n",
    "\n",
    "    pytype = type(name, (object, ), {})\n",
    "    pyobj = pytype()\n",
    "\n",
    "    for attr in node.attrib.keys():\n",
    "        attr = attr.replace('{www.microsoft.com/SqlServer/Dts}', '')\n",
    "        setattr(pyobj, attr, node.get(attr))\n",
    "\n",
    "    if node.text and node.text != '' and node.text != ' ' and node.text != '\\n':\n",
    "        setattr(pyobj, 'text', node.text)\n",
    "\n",
    "    for cn in node:\n",
    "        tag = cn.tag \n",
    "        tag = tag.replace('{www.microsoft.com/SqlServer/Dts}', '')\n",
    "        if not hasattr(pyobj, tag):\n",
    "            setattr(pyobj, tag, [])\n",
    "        getattr(pyobj, tag).append(xml2py(cn))\n",
    "\n",
    "    return pyobj"
   ]
  },
  {
   "cell_type": "code",
   "execution_count": null,
   "id": "bbd7f81b-bc8b-4d79-87d9-806ff858601e",
   "metadata": {},
   "outputs": [],
   "source": []
  },
  {
   "cell_type": "code",
   "execution_count": 25,
   "id": "576c4dda-19ef-40b5-a086-4769e354f04a",
   "metadata": {
    "execution": {
     "iopub.execute_input": "2022-08-24T20:06:51.903925Z",
     "iopub.status.busy": "2022-08-24T20:06:51.903498Z",
     "iopub.status.idle": "2022-08-24T20:06:51.982970Z",
     "shell.execute_reply": "2022-08-24T20:06:51.979388Z",
     "shell.execute_reply.started": "2022-08-24T20:06:51.903925Z"
    },
    "tags": []
   },
   "outputs": [],
   "source": [
    "tree = ET.parse('data/DIM_Clientes.dtsx')\n",
    "root = tree.getroot()"
   ]
  },
  {
   "cell_type": "code",
   "execution_count": 26,
   "id": "c674e356-159d-4452-995f-c70953c41770",
   "metadata": {
    "execution": {
     "iopub.execute_input": "2022-08-24T20:06:54.121303Z",
     "iopub.status.busy": "2022-08-24T20:06:54.120464Z",
     "iopub.status.idle": "2022-08-24T20:06:54.299381Z",
     "shell.execute_reply": "2022-08-24T20:06:54.295297Z",
     "shell.execute_reply.started": "2022-08-24T20:06:54.121260Z"
    },
    "tags": []
   },
   "outputs": [],
   "source": [
    "o = xml2py(root)"
   ]
  },
  {
   "cell_type": "code",
   "execution_count": 31,
   "id": "d580ea2f-a679-42a8-bf3f-b8026800db96",
   "metadata": {
    "execution": {
     "iopub.execute_input": "2022-08-24T20:08:40.191968Z",
     "iopub.status.busy": "2022-08-24T20:08:40.190968Z",
     "iopub.status.idle": "2022-08-24T20:08:40.216948Z",
     "shell.execute_reply": "2022-08-24T20:08:40.212406Z",
     "shell.execute_reply.started": "2022-08-24T20:08:40.191968Z"
    },
    "tags": []
   },
   "outputs": [
    {
     "data": {
      "text/plain": [
       "list"
      ]
     },
     "execution_count": 31,
     "metadata": {},
     "output_type": "execute_result"
    }
   ],
   "source": [
    "o."
   ]
  },
  {
   "cell_type": "code",
   "execution_count": null,
   "id": "3c82485d-e21f-4ae6-893b-d919dbfd9002",
   "metadata": {},
   "outputs": [],
   "source": []
  }
 ],
 "metadata": {
  "kernelspec": {
   "display_name": "Python 3 (ipykernel)",
   "language": "python",
   "name": "python3"
  },
  "language_info": {
   "codemirror_mode": {
    "name": "ipython",
    "version": 3
   },
   "file_extension": ".py",
   "mimetype": "text/x-python",
   "name": "python",
   "nbconvert_exporter": "python",
   "pygments_lexer": "ipython3",
   "version": "3.10.0"
  }
 },
 "nbformat": 4,
 "nbformat_minor": 5
}
