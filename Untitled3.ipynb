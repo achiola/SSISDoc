{
 "cells": [
  {
   "cell_type": "code",
   "execution_count": 1,
   "id": "71075791-f574-4fa2-a52e-0d8f362708f5",
   "metadata": {
    "execution": {
     "iopub.execute_input": "2022-09-21T11:42:06.703897Z",
     "iopub.status.busy": "2022-09-21T11:42:06.703122Z",
     "iopub.status.idle": "2022-09-21T11:42:06.767445Z",
     "shell.execute_reply": "2022-09-21T11:42:06.762916Z",
     "shell.execute_reply.started": "2022-09-21T11:42:06.703897Z"
    }
   },
   "outputs": [],
   "source": [
    "import pyodbc"
   ]
  },
  {
   "cell_type": "code",
   "execution_count": 2,
   "id": "2a0df9a1-03be-4609-bfc3-dc1f2128281a",
   "metadata": {
    "execution": {
     "iopub.execute_input": "2022-09-21T11:42:10.620448Z",
     "iopub.status.busy": "2022-09-21T11:42:10.619360Z",
     "iopub.status.idle": "2022-09-21T11:42:10.632897Z",
     "shell.execute_reply": "2022-09-21T11:42:10.631035Z",
     "shell.execute_reply.started": "2022-09-21T11:42:10.620448Z"
    }
   },
   "outputs": [],
   "source": [
    "connStr= 'Driver={SQL Server};Server=agdgdap01,1065;Database=dwcorp;Trusted_Connection=yes;'"
   ]
  },
  {
   "cell_type": "code",
   "execution_count": 3,
   "id": "eb5e0845-d71a-404b-bcd8-02dfb1245759",
   "metadata": {
    "execution": {
     "iopub.execute_input": "2022-09-21T11:42:20.076731Z",
     "iopub.status.busy": "2022-09-21T11:42:20.076731Z",
     "iopub.status.idle": "2022-09-21T11:42:20.294426Z",
     "shell.execute_reply": "2022-09-21T11:42:20.285983Z",
     "shell.execute_reply.started": "2022-09-21T11:42:20.076731Z"
    }
   },
   "outputs": [],
   "source": [
    "conn = pyodbc.connect(connStr)"
   ]
  },
  {
   "cell_type": "code",
   "execution_count": 4,
   "id": "b51ec0f1-12c0-4efb-b62d-076480cfc4e5",
   "metadata": {
    "execution": {
     "iopub.execute_input": "2022-09-21T11:42:30.820364Z",
     "iopub.status.busy": "2022-09-21T11:42:30.820364Z",
     "iopub.status.idle": "2022-09-21T11:42:30.832654Z",
     "shell.execute_reply": "2022-09-21T11:42:30.830256Z",
     "shell.execute_reply.started": "2022-09-21T11:42:30.820364Z"
    }
   },
   "outputs": [],
   "source": [
    "cursor = conn.cursor()"
   ]
  },
  {
   "cell_type": "code",
   "execution_count": 5,
   "id": "f646a9e7-6bf2-48c2-b120-afe65ccce838",
   "metadata": {
    "execution": {
     "iopub.execute_input": "2022-09-21T11:43:14.902009Z",
     "iopub.status.busy": "2022-09-21T11:43:14.901394Z",
     "iopub.status.idle": "2022-09-21T11:43:14.921376Z",
     "shell.execute_reply": "2022-09-21T11:43:14.916225Z",
     "shell.execute_reply.started": "2022-09-21T11:43:14.902009Z"
    }
   },
   "outputs": [],
   "source": [
    "pkgID = '{70A2F47D-6619-409F-9863-2455F3644906}'"
   ]
  },
  {
   "cell_type": "code",
   "execution_count": 6,
   "id": "bdd8f652-ef2a-44f3-a799-22e54a896d42",
   "metadata": {
    "execution": {
     "iopub.execute_input": "2022-09-21T11:43:17.674545Z",
     "iopub.status.busy": "2022-09-21T11:43:17.674545Z",
     "iopub.status.idle": "2022-09-21T11:43:17.697603Z",
     "shell.execute_reply": "2022-09-21T11:43:17.692786Z",
     "shell.execute_reply.started": "2022-09-21T11:43:17.674545Z"
    }
   },
   "outputs": [],
   "source": [
    "    sql = \"\"\"\n",
    "    select count(1) from pkgDefinition where pkgId = '\"\"\"+ pkgID + \"\"\"\"'\n",
    "    \"\"\""
   ]
  },
  {
   "cell_type": "code",
   "execution_count": 7,
   "id": "8b7af609-bbd8-4833-abce-26668bb8856d",
   "metadata": {
    "execution": {
     "iopub.execute_input": "2022-09-21T11:43:21.028212Z",
     "iopub.status.busy": "2022-09-21T11:43:21.027711Z",
     "iopub.status.idle": "2022-09-21T11:43:21.046170Z",
     "shell.execute_reply": "2022-09-21T11:43:21.042367Z",
     "shell.execute_reply.started": "2022-09-21T11:43:21.028212Z"
    }
   },
   "outputs": [
    {
     "data": {
      "text/plain": [
       "'\\nselect count(1) from pkgDefinition where pkgId = \\'{70A2F47D-6619-409F-9863-2455F3644906}\"\\'\\n'"
      ]
     },
     "execution_count": 7,
     "metadata": {},
     "output_type": "execute_result"
    }
   ],
   "source": [
    "sql"
   ]
  },
  {
   "cell_type": "code",
   "execution_count": 8,
   "id": "8ab68ce8-dbca-4de5-9bbb-6099e3be51dd",
   "metadata": {
    "execution": {
     "iopub.execute_input": "2022-09-21T11:43:41.478891Z",
     "iopub.status.busy": "2022-09-21T11:43:41.478891Z",
     "iopub.status.idle": "2022-09-21T11:43:41.502423Z",
     "shell.execute_reply": "2022-09-21T11:43:41.499920Z",
     "shell.execute_reply.started": "2022-09-21T11:43:41.478891Z"
    }
   },
   "outputs": [],
   "source": [
    "cursor.execute(sql)\n",
    "q = cursor.fetchone()\n",
    "conn.close()"
   ]
  },
  {
   "cell_type": "code",
   "execution_count": 17,
   "id": "3cb6fc45-ee6a-4119-97f4-1d948721d645",
   "metadata": {
    "execution": {
     "iopub.execute_input": "2022-09-21T11:47:34.985310Z",
     "iopub.status.busy": "2022-09-21T11:47:34.985310Z",
     "iopub.status.idle": "2022-09-21T11:47:35.009027Z",
     "shell.execute_reply": "2022-09-21T11:47:35.004801Z",
     "shell.execute_reply.started": "2022-09-21T11:47:34.985310Z"
    },
    "tags": []
   },
   "outputs": [
    {
     "data": {
      "text/plain": [
       "0"
      ]
     },
     "execution_count": 17,
     "metadata": {},
     "output_type": "execute_result"
    }
   ],
   "source": [
    "q[0]"
   ]
  },
  {
   "cell_type": "code",
   "execution_count": 16,
   "id": "1752a7d5-fa3a-4f8d-a55a-5d7b3ef2a74c",
   "metadata": {
    "execution": {
     "iopub.execute_input": "2022-09-21T11:47:32.088528Z",
     "iopub.status.busy": "2022-09-21T11:47:32.088163Z",
     "iopub.status.idle": "2022-09-21T11:47:32.105906Z",
     "shell.execute_reply": "2022-09-21T11:47:32.103758Z",
     "shell.execute_reply.started": "2022-09-21T11:47:32.088528Z"
    },
    "tags": []
   },
   "outputs": [
    {
     "name": "stdout",
     "output_type": "stream",
     "text": [
      "False\n"
     ]
    }
   ],
   "source": [
    "if q[0] != 0:\n",
    "    print(True)\n",
    "else:\n",
    "    print(False)"
   ]
  },
  {
   "cell_type": "code",
   "execution_count": 18,
   "id": "16ba2fd9-900d-46a9-ab27-9be91fe54f5f",
   "metadata": {
    "execution": {
     "iopub.execute_input": "2022-09-21T11:47:44.871192Z",
     "iopub.status.busy": "2022-09-21T11:47:44.870193Z",
     "iopub.status.idle": "2022-09-21T11:47:44.884096Z",
     "shell.execute_reply": "2022-09-21T11:47:44.880112Z",
     "shell.execute_reply.started": "2022-09-21T11:47:44.870193Z"
    }
   },
   "outputs": [
    {
     "data": {
      "text/plain": [
       "False"
      ]
     },
     "execution_count": 18,
     "metadata": {},
     "output_type": "execute_result"
    }
   ],
   "source": [
    "q[0] != 0"
   ]
  },
  {
   "cell_type": "code",
   "execution_count": null,
   "id": "64537449-a168-4822-ae3e-d67602b1e2c8",
   "metadata": {},
   "outputs": [],
   "source": []
  }
 ],
 "metadata": {
  "kernelspec": {
   "display_name": "Python 3 (ipykernel)",
   "language": "python",
   "name": "python3"
  },
  "language_info": {
   "codemirror_mode": {
    "name": "ipython",
    "version": 3
   },
   "file_extension": ".py",
   "mimetype": "text/x-python",
   "name": "python",
   "nbconvert_exporter": "python",
   "pygments_lexer": "ipython3",
   "version": "3.10.0"
  }
 },
 "nbformat": 4,
 "nbformat_minor": 5
}
