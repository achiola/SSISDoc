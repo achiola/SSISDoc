{
 "cells": [
  {
   "cell_type": "code",
   "execution_count": 2,
   "id": "f07e9a57-c183-4bef-b5b2-6c03ead9ec55",
   "metadata": {
    "execution": {
     "iopub.execute_input": "2022-08-30T11:55:06.767306Z",
     "iopub.status.busy": "2022-08-30T11:55:06.767306Z",
     "iopub.status.idle": "2022-08-30T11:55:06.905455Z",
     "shell.execute_reply": "2022-08-30T11:55:06.903262Z",
     "shell.execute_reply.started": "2022-08-30T11:55:06.767306Z"
    },
    "tags": []
   },
   "outputs": [],
   "source": [
    "import pyodbc #to connect to SQL Server\n",
    "\n",
    "sqlConnStr = ('DRIVER={SQL Server Native Client 11.0};Server=agdgdap01,1065;Database=dwcorp;'+\n",
    "            'Trusted_Connection=YES') "
   ]
  },
  {
   "cell_type": "code",
   "execution_count": null,
   "id": "402808bf-690b-4684-b907-bbf968bd3363",
   "metadata": {},
   "outputs": [],
   "source": []
  }
 ],
 "metadata": {
  "kernelspec": {
   "display_name": "Python 3 (ipykernel)",
   "language": "python",
   "name": "python3"
  },
  "language_info": {
   "codemirror_mode": {
    "name": "ipython",
    "version": 3
   },
   "file_extension": ".py",
   "mimetype": "text/x-python",
   "name": "python",
   "nbconvert_exporter": "python",
   "pygments_lexer": "ipython3",
   "version": "3.10.0"
  }
 },
 "nbformat": 4,
 "nbformat_minor": 5
}
