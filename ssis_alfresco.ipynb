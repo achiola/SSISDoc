{
 "cells": [
  {
   "cell_type": "code",
   "execution_count": 11,
   "id": "d47f6984-383a-4baa-99ef-7142609086b3",
   "metadata": {
    "execution": {
     "iopub.execute_input": "2022-12-27T17:12:21.297669Z",
     "iopub.status.busy": "2022-12-27T17:12:21.297669Z",
     "iopub.status.idle": "2022-12-27T17:12:21.522225Z",
     "shell.execute_reply": "2022-12-27T17:12:21.509202Z",
     "shell.execute_reply.started": "2022-12-27T17:12:21.297669Z"
    },
    "tags": []
   },
   "outputs": [
    {
     "name": "stdout",
     "output_type": "stream",
     "text": [
      "{\"entry\":{\"id\":\"TICKET_963a34460f25c187c40dcac9d10c2eb9927c9007\",\"userId\":\"achiola\"}}\n"
     ]
    }
   ],
   "source": [
    "import http.client\n",
    "import json\n",
    "import mimetypes\n",
    "from codecs import encode\n",
    "\n",
    "token = \"\"\n",
    "\n",
    "def __init(self):\n",
    "    self.token = getAlfrescoToken()\n",
    "\n",
    "def getAlfrescoToken():\n",
    "    conn = http.client.HTTPSConnection(\"archivodigital.agdcorp.com.ar\", 8433)\n",
    "\n",
    "    payload = \"{\\r\\n  \\\"userId\\\": \\\"achiola\\\",\\r\\n  \\\"password\\\": \\\"c4rn3r1ll022\\\"\\r\\n}‍‍‍‍‍‍‍‍‍‍‍‍‍‍‍‍‍‍‍‍‍‍‍‍‍‍‍‍‍‍‍‍‍‍‍‍‍‍‍‍‍‍‍‍‍‍‍‍‍‍‍‍\"\n",
    "    headers = {\n",
    "      'Content-Type': 'application/json'\n",
    "    }\n",
    "    payload = payload.encode('utf-8')\n",
    "\n",
    "    conn.request(\"POST\", \"/alfresco/api/-default-/public/authentication/versions/1/tickets\", payload, headers)\n",
    "    res = conn.getresponse()\n",
    "    data = res.read()\n",
    "    return data.decode(\"utf-8\")\n",
    "\n",
    "def sendFile(path, file):\n",
    "    conn = http.client.HTTPSConnection(\"archivodigital.agdcorp.com.ar\", 8433)\n",
    "    dataList = []\n",
    "    boundary = 'wL36Yn8afVp8Ag7AmP8qZ0SA4n1v9T'\n",
    "    dataList.append(encode('--' + boundary))\n",
    "    dataList.append(encode('Content-Disposition: form-data; name=filedata; filename={0}'.format('datos_py_reducido.csv')))\n",
    "\n",
    "    fileType = mimetypes.guess_type('datos_py_reducido.csv')[0] or 'application/octet-stream'\n",
    "    dataList.append(encode('Content-Type: {}'.format(fileType)))\n",
    "    dataList.append(encode(''))\n",
    "\n",
    "    with open('datos_py_reducido.csv', 'rb') as f:\n",
    "      dataList.append(f.read())\n",
    "    dataList.append(encode('--' + boundary))\n",
    "    dataList.append(encode('Content-Disposition: form-data; name=relativePath;'))\n",
    "\n",
    "    dataList.append(encode('Content-Type: {}'.format('text/plain')))\n",
    "    dataList.append(encode(''))\n",
    "\n",
    "    dataList.append(encode(\"/Sites/sistemas---bi/documentlibrary/SSIS/archivo1\"))\n",
    "    dataList.append(encode('--'+boundary+'--'))\n",
    "    dataList.append(encode(''))\n",
    "    body = b'\\r\\n'.join(dataList)\n",
    "    payload = body\n",
    "    headers = {\n",
    "       'Content-type': 'multipart/form-data; boundary={}'.format(boundary) \n",
    "    }\n",
    "    conn.request(\"POST\", \"/alfresco/api/-default-/public/alfresco/versions/1/nodes/-root-/children?alf_ticket=TICKET_963a34460f25c187c40dcac9d10c2eb9927c9007\", payload, headers)\n",
    "    res = conn.getresponse()\n",
    "    data = res.read()\n",
    "    return data.decode(\"utf-8\")"
   ]
  },
  {
   "cell_type": "code",
   "execution_count": 13,
   "id": "a6d9a1a3-5db5-464b-a414-308f6698425c",
   "metadata": {
    "execution": {
     "iopub.execute_input": "2022-12-27T17:14:18.922200Z",
     "iopub.status.busy": "2022-12-27T17:14:18.922200Z",
     "iopub.status.idle": "2022-12-27T17:14:19.134402Z",
     "shell.execute_reply": "2022-12-27T17:14:19.132898Z",
     "shell.execute_reply.started": "2022-12-27T17:14:18.922200Z"
    },
    "tags": []
   },
   "outputs": [
    {
     "name": "stdout",
     "output_type": "stream",
     "text": [
      "{\"entry\":{\"isFile\":true,\"createdByUser\":{\"id\":\"achiola\",\"displayName\":\"Abel German Chiola\"},\"modifiedAt\":\"2022-12-27T17:14:14.405+0000\",\"nodeType\":\"cm:content\",\"content\":{\"mimeType\":\"text/csv\",\"mimeTypeName\":\"Comma Separated Values (CSV)\",\"sizeInBytes\":6953,\"encoding\":\"UTF-8\"},\"parentId\":\"aed6e6c4-b777-4d36-ad09-489e4cd9f62a\",\"aspectNames\":[\"cm:versionable\",\"cm:auditable\"],\"createdAt\":\"2022-12-27T17:14:14.405+0000\",\"isFolder\":false,\"modifiedByUser\":{\"id\":\"achiola\",\"displayName\":\"Abel German Chiola\"},\"name\":\"datos_py_reducido.csv\",\"id\":\"7841005e-82cb-4321-8ade-a738c8a3c49a\",\"properties\":{\"cm:versionLabel\":\"1.0\",\"cm:versionType\":\"MAJOR\"}}}\n"
     ]
    }
   ],
   "source": []
  },
  {
   "cell_type": "code",
   "execution_count": null,
   "id": "de16dc26-49ae-46f1-b441-a0b828b03938",
   "metadata": {},
   "outputs": [],
   "source": []
  }
 ],
 "metadata": {
  "kernelspec": {
   "display_name": "Python 3 (ipykernel)",
   "language": "python",
   "name": "python3"
  },
  "language_info": {
   "codemirror_mode": {
    "name": "ipython",
    "version": 3
   },
   "file_extension": ".py",
   "mimetype": "text/x-python",
   "name": "python",
   "nbconvert_exporter": "python",
   "pygments_lexer": "ipython3",
   "version": "3.9.13"
  }
 },
 "nbformat": 4,
 "nbformat_minor": 5
}
