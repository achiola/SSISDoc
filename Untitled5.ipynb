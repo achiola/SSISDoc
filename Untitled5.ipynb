{
 "cells": [
  {
   "cell_type": "code",
   "execution_count": 75,
   "id": "e1731c34-8a39-420c-91d1-09ae22aa4ecd",
   "metadata": {
    "execution": {
     "iopub.execute_input": "2022-12-28T16:45:46.223863Z",
     "iopub.status.busy": "2022-12-28T16:45:46.219538Z",
     "iopub.status.idle": "2022-12-28T16:45:46.439805Z",
     "shell.execute_reply": "2022-12-28T16:45:46.437574Z",
     "shell.execute_reply.started": "2022-12-28T16:45:46.223863Z"
    },
    "tags": []
   },
   "outputs": [],
   "source": [
    "import sys\n",
    "try: \n",
    "    del sys.modules[\"ssis\"] \n",
    "    del sys.modules[\"ssis_sql\"]   \n",
    "    del sys.modules[\"ssis_constants\"]     \n",
    "    del sys.modules[\"ssis_getCode\"] \n",
    "    del sys.modules[\"ssis_toDB\"]\n",
    "    del sys.modules[\"ssis_main\"]\n",
    "except: \n",
    "    print('No estaban cargados')\n",
    "import ssis as s\n",
    "import ssis_sql as ss\n",
    "import ssis_constants as sc\n",
    "import ssis_getCode as sgc\n",
    "import ssis_toDB as sdb\n",
    "import ssis_main as sm\n",
    "import numpy as np\n",
    "\n",
    "import warnings\n",
    "warnings.filterwarnings('ignore')\n"
   ]
  },
  {
   "cell_type": "code",
   "execution_count": 11,
   "id": "58519db2-18d9-43c9-81f0-357f0d86aa76",
   "metadata": {
    "execution": {
     "iopub.execute_input": "2022-12-27T12:33:41.539410Z",
     "iopub.status.busy": "2022-12-27T12:33:41.539410Z",
     "iopub.status.idle": "2022-12-27T12:33:42.990796Z",
     "shell.execute_reply": "2022-12-27T12:33:42.987653Z",
     "shell.execute_reply.started": "2022-12-27T12:33:41.539410Z"
    },
    "tags": []
   },
   "outputs": [
    {
     "name": "stdout",
     "output_type": "stream",
     "text": [
      "---------------------------------------------------------------\n",
      "-- Procesando\n",
      "-- Leyendo propiedades\n",
      "-- Leyendo Variables\n",
      "Error obteniendo variables\n",
      "-- Leyendo conexiones\n",
      "-- Leyendo Control Flow V2\n",
      "---- Leyendo contrains de control flow V2\n",
      "---Error leyendo constrains\n",
      "---------------------------------------------------------------\n",
      "--> ROOT_msdb\\Data Collector\\\n",
      "Existe y es la misma version\n"
     ]
    }
   ],
   "source": [
    "id = '9077842D-2075-4E9E-B0F1-A138E10C669C'\n",
    "xml = sgc.getSSISCode(id)\n",
    "obj = s.MySSIS(xml,tipo='variable' )\n",
    "path = sgc.getSSISPath(id)\n",
    "#try:\n",
    "sdb.sendPKG(obj, path)"
   ]
  },
  {
   "cell_type": "code",
   "execution_count": 8,
   "id": "f6fa20f6-876c-4d7d-93a1-710ce8456f71",
   "metadata": {
    "execution": {
     "iopub.execute_input": "2022-12-27T12:32:29.673534Z",
     "iopub.status.busy": "2022-12-27T12:32:29.673070Z",
     "iopub.status.idle": "2022-12-27T12:32:29.695704Z",
     "shell.execute_reply": "2022-12-27T12:32:29.690256Z",
     "shell.execute_reply.started": "2022-12-27T12:32:29.673534Z"
    },
    "tags": []
   },
   "outputs": [
    {
     "name": "stdout",
     "output_type": "stream",
     "text": [
      "1\n"
     ]
    }
   ],
   "source": [
    "a = ['']\n",
    "print(len(a))"
   ]
  },
  {
   "cell_type": "code",
   "execution_count": 72,
   "id": "35931467-7961-4aa4-bd40-40308fecfe2a",
   "metadata": {
    "execution": {
     "iopub.execute_input": "2022-12-28T13:49:54.227914Z",
     "iopub.status.busy": "2022-12-28T13:49:54.226913Z",
     "iopub.status.idle": "2022-12-28T13:49:54.252042Z",
     "shell.execute_reply": "2022-12-28T13:49:54.248821Z",
     "shell.execute_reply.started": "2022-12-28T13:49:54.227914Z"
    },
    "tags": []
   },
   "outputs": [],
   "source": [
    "import sys\n",
    "try: \n",
    "    del sys.modules[\"ssis_alfresco\"] \n",
    "except:\n",
    "    pass\n",
    "import ssis_alfresco as sa"
   ]
  },
  {
   "cell_type": "code",
   "execution_count": 73,
   "id": "e7662e91-001a-4b54-a769-abe13005510b",
   "metadata": {
    "execution": {
     "iopub.execute_input": "2022-12-28T13:49:55.127321Z",
     "iopub.status.busy": "2022-12-28T13:49:55.126179Z",
     "iopub.status.idle": "2022-12-28T13:49:55.272851Z",
     "shell.execute_reply": "2022-12-28T13:49:55.271130Z",
     "shell.execute_reply.started": "2022-12-28T13:49:55.127321Z"
    },
    "tags": []
   },
   "outputs": [],
   "source": [
    "a = sa.alfresco()"
   ]
  },
  {
   "cell_type": "code",
   "execution_count": 70,
   "id": "bef7f524-ea33-4f03-9300-000b8e5a0a22",
   "metadata": {
    "execution": {
     "iopub.execute_input": "2022-12-28T13:47:10.281728Z",
     "iopub.status.busy": "2022-12-28T13:47:10.280727Z",
     "iopub.status.idle": "2022-12-28T13:47:10.308521Z",
     "shell.execute_reply": "2022-12-28T13:47:10.303150Z",
     "shell.execute_reply.started": "2022-12-28T13:47:10.281728Z"
    },
    "tags": []
   },
   "outputs": [
    {
     "data": {
      "text/plain": [
       "'TICKET_f64c78dae74bce75b26b2e8134d0e4addefd102a'"
      ]
     },
     "execution_count": 70,
     "metadata": {},
     "output_type": "execute_result"
    }
   ],
   "source": [
    "a.token"
   ]
  },
  {
   "cell_type": "code",
   "execution_count": 74,
   "id": "38a474e8-af00-40cf-a9aa-dee0dbf1e065",
   "metadata": {
    "execution": {
     "iopub.execute_input": "2022-12-28T13:50:08.226318Z",
     "iopub.status.busy": "2022-12-28T13:50:08.226318Z",
     "iopub.status.idle": "2022-12-28T13:50:08.475689Z",
     "shell.execute_reply": "2022-12-28T13:50:08.469796Z",
     "shell.execute_reply.started": "2022-12-28T13:50:08.226318Z"
    },
    "tags": []
   },
   "outputs": [
    {
     "data": {
      "text/plain": [
       "'{\"entry\":{\"isFile\":true,\"createdByUser\":{\"id\":\"ssis\",\"displayName\":\"ssis\"},\"modifiedAt\":\"2022-12-28T13:50:04.502+0000\",\"nodeType\":\"cm:content\",\"content\":{\"mimeType\":\"text/x-python\",\"sizeInBytes\":16753,\"encoding\":\"UTF-8\"},\"parentId\":\"7bc43af5-8ad9-4ec8-8338-ca3c1ccaa239\",\"aspectNames\":[\"cm:versionable\",\"cm:auditable\"],\"createdAt\":\"2022-12-28T13:50:04.502+0000\",\"isFolder\":false,\"modifiedByUser\":{\"id\":\"ssis\",\"displayName\":\"ssis\"},\"name\":\"ssis.py\",\"id\":\"8efca0dc-6223-4356-9dc4-076a51fb0f4d\",\"properties\":{\"cm:versionLabel\":\"1.0\",\"cm:versionType\":\"MAJOR\"}}}'"
      ]
     },
     "execution_count": 74,
     "metadata": {},
     "output_type": "execute_result"
    }
   ],
   "source": [
    "a.sendFile('ssis.py')"
   ]
  },
  {
   "cell_type": "code",
   "execution_count": null,
   "id": "8e89eb71-0c61-4bf2-bb4a-fa0373bbd830",
   "metadata": {},
   "outputs": [],
   "source": []
  }
 ],
 "metadata": {
  "kernelspec": {
   "display_name": "Python 3 (ipykernel)",
   "language": "python",
   "name": "python3"
  },
  "language_info": {
   "codemirror_mode": {
    "name": "ipython",
    "version": 3
   },
   "file_extension": ".py",
   "mimetype": "text/x-python",
   "name": "python",
   "nbconvert_exporter": "python",
   "pygments_lexer": "ipython3",
   "version": "3.9.13"
  }
 },
 "nbformat": 4,
 "nbformat_minor": 5
}
