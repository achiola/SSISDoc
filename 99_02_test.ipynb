{
 "cells": [
  {
   "cell_type": "code",
   "execution_count": 1,
   "id": "be94a3af-01ee-491d-b81d-a9ff998ee7f8",
   "metadata": {
    "execution": {
     "iopub.execute_input": "2022-10-06T13:20:01.675766Z",
     "iopub.status.busy": "2022-10-06T13:20:01.674883Z",
     "iopub.status.idle": "2022-10-06T13:20:13.569222Z",
     "shell.execute_reply": "2022-10-06T13:20:13.566858Z",
     "shell.execute_reply.started": "2022-10-06T13:20:01.675766Z"
    },
    "tags": []
   },
   "outputs": [
    {
     "name": "stdout",
     "output_type": "stream",
     "text": [
      "No estaban cargados\n"
     ]
    }
   ],
   "source": [
    "import sys\n",
    "try: \n",
    "    del sys.modules[\"ssis\"] \n",
    "    del sys.modules[\"ssis_sql\"]   \n",
    "    del sys.modules[\"ssis_constants\"]     \n",
    "    del sys.modules[\"ssis_getCode\"] \n",
    "    del sys.modules[\"ssis_toDB\"]\n",
    "    del sys.modules[\"ssis_main\"]\n",
    "except: \n",
    "    print('No estaban cargados')\n",
    "import ssis as s\n",
    "import ssis_sql as ss\n",
    "import ssis_constants as sc\n",
    "import ssis_getCode as sgc\n",
    "import ssis_toDB as sdb\n",
    "import ssis_main as sm\n",
    "import numpy as np\n",
    "\n",
    "import warnings\n",
    "warnings.filterwarnings('ignore')\n"
   ]
  },
  {
   "cell_type": "code",
   "execution_count": null,
   "id": "62022dcc-d08b-47ed-8b94-ec7352074f93",
   "metadata": {
    "tags": []
   },
   "outputs": [],
   "source": [
    "xml = sgc.getSSISCode('52A278A3-6FCF-452F-96DB-CCA03ED1117A')"
   ]
  },
  {
   "cell_type": "code",
   "execution_count": 12,
   "id": "ed3ae7e8-3ce5-488a-a13d-c27b983a3118",
   "metadata": {
    "execution": {
     "iopub.execute_input": "2022-10-06T17:26:44.547926Z",
     "iopub.status.busy": "2022-10-06T17:26:44.544037Z",
     "iopub.status.idle": "2022-10-06T17:26:44.807829Z",
     "shell.execute_reply": "2022-10-06T17:26:44.804327Z",
     "shell.execute_reply.started": "2022-10-06T17:26:44.547426Z"
    },
    "tags": []
   },
   "outputs": [
    {
     "name": "stdout",
     "output_type": "stream",
     "text": [
      "---------------------------------------------------------------\n",
      "-- Procesando\n",
      "-- Leyendo propiedades\n",
      "-- Leyendo Variables\n",
      "Error obteniendo variables\n",
      "-- Leyendo conexiones\n",
      "Problema leyendo XML - ConnectionManager\n",
      "list indices must be integers or slices, not str\n",
      "Problema leyendo XML - ConnectionManager\n",
      "list indices must be integers or slices, not str\n",
      "Problema leyendo XML - ConnectionManager\n",
      "list indices must be integers or slices, not str\n",
      "-- Leyendo Control Flow V2\n",
      "---- Leyendo contrains de control flow V2\n",
      "---Error leyendo constrains\n",
      "---------------------------------------------------------------\n"
     ]
    }
   ],
   "source": [
    "obj = s.MySSIS('\\\\\\\\agdgdap01\\\\g$\\\\SSIS_Productivo_ok\\\\Mantenimiento\\\\Administracion_SSIS\\\\Administracion_SSIS\\\\Transfer_Jobs.dtsx')\n",
    "#obj = s.MySSIS(xml,tipo='variable' )"
   ]
  },
  {
   "cell_type": "code",
   "execution_count": 13,
   "id": "63768040-8351-4bb0-8d46-311db4130e77",
   "metadata": {
    "execution": {
     "iopub.execute_input": "2022-10-06T17:27:12.741108Z",
     "iopub.status.busy": "2022-10-06T17:27:12.740109Z",
     "iopub.status.idle": "2022-10-06T17:27:12.766464Z",
     "shell.execute_reply": "2022-10-06T17:27:12.762113Z",
     "shell.execute_reply.started": "2022-10-06T17:27:12.741108Z"
    },
    "tags": []
   },
   "outputs": [
    {
     "name": "stdout",
     "output_type": "stream",
     "text": [
      "ID: {14F05DC7-0EEC-4AB5-BE61-CB0E7AB85E83}\n",
      "\u001b[95m [Desconocido [Microsoft.SqlServer.Dts.Tasks.TransferLoginsTask.TransferLoginsTask]] \u001b[94mTransfer Logins Task \u001b[90m\n",
      "ID: {121A4298-7CF5-4600-8639-524AF41A482F}\n",
      "\u001b[95m [Desconocido [Microsoft.SqlServer.Dts.Tasks.TransferJobsTask.TransferJobsTask]] \u001b[94mTransfer Jobs Task \u001b[90m\n"
     ]
    }
   ],
   "source": [
    "obj.listControlFlow()"
   ]
  },
  {
   "cell_type": "code",
   "execution_count": null,
   "id": "b3a81196-91e5-4ddf-a51d-13a5e86a50e1",
   "metadata": {
    "tags": []
   },
   "outputs": [],
   "source": [
    "try: \n",
    "    del sys.modules[\"ssis_toDB\"]\n",
    "except: \n",
    "    print('Error')\n",
    "import ssis_toDB as sdb\n"
   ]
  },
  {
   "cell_type": "code",
   "execution_count": 14,
   "id": "0a63675b-fbaa-44ae-89aa-751992970ab0",
   "metadata": {
    "execution": {
     "iopub.execute_input": "2022-10-06T17:27:17.559701Z",
     "iopub.status.busy": "2022-10-06T17:27:17.558602Z",
     "iopub.status.idle": "2022-10-06T17:27:17.856374Z",
     "shell.execute_reply": "2022-10-06T17:27:17.853978Z",
     "shell.execute_reply.started": "2022-10-06T17:27:17.559701Z"
    },
    "tags": []
   },
   "outputs": [
    {
     "name": "stdout",
     "output_type": "stream",
     "text": [
      "Existe y es la misma version\n"
     ]
    }
   ],
   "source": [
    "sdb.sendPKG(obj)"
   ]
  },
  {
   "cell_type": "code",
   "execution_count": 15,
   "id": "596a6fee-d70a-4435-bd8d-d3cd659046d0",
   "metadata": {
    "execution": {
     "iopub.execute_input": "2022-10-06T17:27:20.649413Z",
     "iopub.status.busy": "2022-10-06T17:27:20.648255Z",
     "iopub.status.idle": "2022-10-06T17:27:20.691500Z",
     "shell.execute_reply": "2022-10-06T17:27:20.684836Z",
     "shell.execute_reply.started": "2022-10-06T17:27:20.648756Z"
    },
    "tags": []
   },
   "outputs": [
    {
     "data": {
      "text/plain": [
       "{'{14F05DC7-0EEC-4AB5-BE61-CB0E7AB85E83}': {'Nombre': 'Transfer Logins Task',\n",
       "  'Tipo': 'Microsoft.SqlServer.Dts.Tasks.TransferLoginsTask.TransferLoginsTask',\n",
       "  'Origen': '',\n",
       "  'Variable': '',\n",
       "  'SQL': [],\n",
       "  'Connection': ''},\n",
       " '{121A4298-7CF5-4600-8639-524AF41A482F}': {'Nombre': 'Transfer Jobs Task',\n",
       "  'Tipo': 'Microsoft.SqlServer.Dts.Tasks.TransferJobsTask.TransferJobsTask',\n",
       "  'Origen': '',\n",
       "  'Variable': '',\n",
       "  'SQL': [],\n",
       "  'Connection': ''}}"
      ]
     },
     "execution_count": 15,
     "metadata": {},
     "output_type": "execute_result"
    }
   ],
   "source": [
    "obj.pkgControlFlow"
   ]
  },
  {
   "cell_type": "code",
   "execution_count": null,
   "id": "14b531ce-e164-4092-b401-fb1ea056185c",
   "metadata": {},
   "outputs": [],
   "source": [
    "x = \"\"\" hola {nombre} \"\"\""
   ]
  },
  {
   "cell_type": "code",
   "execution_count": null,
   "id": "32a967f7-df68-48b6-83fa-34771e5fcbda",
   "metadata": {
    "tags": []
   },
   "outputs": [],
   "source": [
    "x.format(nombre = 'Abel')"
   ]
  },
  {
   "cell_type": "code",
   "execution_count": null,
   "id": "f461ff7a-1eff-475d-a4f9-039893f54831",
   "metadata": {
    "tags": []
   },
   "outputs": [],
   "source": [
    "['_Encrypted']"
   ]
  },
  {
   "cell_type": "code",
   "execution_count": null,
   "id": "676425cb-7826-455d-9e48-73413165a9fd",
   "metadata": {},
   "outputs": [],
   "source": [
    "import json"
   ]
  },
  {
   "cell_type": "code",
   "execution_count": null,
   "id": "d1b9b79c-378b-4f98-a7a2-e5e4cdc9bcf5",
   "metadata": {
    "tags": []
   },
   "outputs": [],
   "source": [
    "obj.pkgConnections['{93D6ADD5-3992-4CB2-8EF2-611573D4B283}']"
   ]
  },
  {
   "cell_type": "code",
   "execution_count": null,
   "id": "c9d1c3ed-0a17-4b1e-b031-1afd6d8f02c2",
   "metadata": {
    "tags": []
   },
   "outputs": [],
   "source": [
    "obj.pkgDict['Executable']['ConnectionManager'][2]['ObjectData']['ConnectionManager']['Property'][1]"
   ]
  },
  {
   "cell_type": "code",
   "execution_count": null,
   "id": "a56c0cdb-fba0-4037-ad39-9c3053863ad0",
   "metadata": {
    "tags": []
   },
   "outputs": [],
   "source": [
    "obj.pkgDict[]"
   ]
  },
  {
   "cell_type": "code",
   "execution_count": null,
   "id": "81fd1458-304f-4939-954d-135e5b37d57d",
   "metadata": {
    "tags": []
   },
   "outputs": [],
   "source": [
    "sm.procesar_msdb()\n",
    "print('------------------------ FIN -----------------------')"
   ]
  },
  {
   "cell_type": "code",
   "execution_count": null,
   "id": "a6047784-0721-4f2e-9871-75e63eea9c67",
   "metadata": {
    "tags": []
   },
   "outputs": [],
   "source": [
    "sgc.getSSISPath('32C9641A-08E1-4CD7-8BF8-FCF25FB2AA0C')"
   ]
  },
  {
   "cell_type": "code",
   "execution_count": null,
   "id": "10b937b7-eb86-42cc-af24-d3ab6d257f34",
   "metadata": {},
   "outputs": [],
   "source": []
  },
  {
   "cell_type": "code",
   "execution_count": null,
   "id": "5cc7a25e-25fe-4584-b584-ee23c9991d54",
   "metadata": {
    "tags": []
   },
   "outputs": [],
   "source": [
    "from io import StringIO \n",
    "import sys\n",
    "\n",
    "class Capturing(list):\n",
    "    def __enter__(self):\n",
    "        self._stdout = sys.stdout\n",
    "        sys.stdout = self._stringio = StringIO()\n",
    "        return self\n",
    "    def __exit__(self, *args):\n",
    "        self.extend(self._stringio.getvalue().splitlines())\n",
    "        del self._stringio    # free up some memory\n",
    "        sys.stdout = self._stdout"
   ]
  },
  {
   "cell_type": "code",
   "execution_count": null,
   "id": "3630dfbc-54d7-413a-ba94-36450a559104",
   "metadata": {
    "tags": []
   },
   "outputs": [],
   "source": [
    "str(output)"
   ]
  },
  {
   "cell_type": "code",
   "execution_count": null,
   "id": "6cb7de62-7101-44f3-8328-54f6218fb662",
   "metadata": {
    "tags": []
   },
   "outputs": [],
   "source": [
    "output.clear()"
   ]
  },
  {
   "cell_type": "code",
   "execution_count": null,
   "id": "5650996b-b4a3-47f0-a294-fd48f8470984",
   "metadata": {
    "tags": []
   },
   "outputs": [],
   "source": [
    "obj.pkgProperties['DTSID'], obj.pkgProperties['VersionGUID']"
   ]
  },
  {
   "cell_type": "code",
   "execution_count": null,
   "id": "282791bb-4bc7-4603-9c66-150c47ef7c9e",
   "metadata": {},
   "outputs": [],
   "source": [
    "x = ['Procesando paquete: TC - MantPAG Talleres - 04247F30-1596-4F64-A177-62E17BA529AA', '---------------------------------------------------------------', '-- Procesando', '-- Leyendo propiedades', '-- Leyendo Variables', 'Error obteniendo variables', '-- Leyendo conexiones', '-- Leyendo Control Flow V2', '---- Leyendo contrains de control flow V2', '---Error leyendo constrains', '---------------------------------------------------------------', '--> ROOT_msdb\\\\Dimensiones\\\\', 'Existe y es la misma version']"
   ]
  },
  {
   "cell_type": "code",
   "execution_count": null,
   "id": "16abf1c3-fbc6-4e51-86f0-a70b84dc3fd2",
   "metadata": {
    "tags": []
   },
   "outputs": [],
   "source": [
    "'\\n'.join(x)"
   ]
  },
  {
   "cell_type": "code",
   "execution_count": null,
   "id": "52319922-6792-492c-a253-c2afe1f121a7",
   "metadata": {
    "tags": []
   },
   "outputs": [],
   "source": [
    "obj.pkgControlFlow['{fbe7767a-317d-436d-9341-4c99d403cd80}']['SQL'][0][2][0]"
   ]
  },
  {
   "cell_type": "code",
   "execution_count": null,
   "id": "07b8dc35-2db8-4845-9d82-dc2f526faff9",
   "metadata": {
    "tags": []
   },
   "outputs": [],
   "source": [
    "obj.pkgControlFlow#['{fbe7767a-317d-436d-9341-4c99d403cd80}']['SQL']"
   ]
  },
  {
   "cell_type": "code",
   "execution_count": null,
   "id": "255acba2-11ed-464d-a098-a1306154dc4b",
   "metadata": {
    "tags": []
   },
   "outputs": [],
   "source": [
    "t = \"dbo.\\\"[tabla]\\\"\""
   ]
  },
  {
   "cell_type": "code",
   "execution_count": null,
   "id": "0540b0e3-f933-44e6-b0dd-c3246dc10bd4",
   "metadata": {
    "tags": []
   },
   "outputs": [],
   "source": [
    "sdb.limpiarNombreTabla(t)"
   ]
  },
  {
   "cell_type": "code",
   "execution_count": null,
   "id": "db2d31fd-28f1-4278-98a9-842f9822ec35",
   "metadata": {
    "tags": []
   },
   "outputs": [],
   "source": [
    "t.replace('\"','')"
   ]
  },
  {
   "cell_type": "code",
   "execution_count": null,
   "id": "ff182eea-9d54-4086-9468-e108f523766b",
   "metadata": {
    "tags": []
   },
   "outputs": [],
   "source": [
    "x = 'dfds'\n",
    "if x:\n",
    "    print('Ok')\n",
    "else:\n",
    "    print('Empty')"
   ]
  },
  {
   "cell_type": "code",
   "execution_count": null,
   "id": "0d424f8d-cd7d-4509-b0c3-54347b194ccd",
   "metadata": {
    "tags": []
   },
   "outputs": [],
   "source": [
    "import numpy as np"
   ]
  },
  {
   "cell_type": "code",
   "execution_count": 5,
   "id": "59bec7da-c2c6-4a2c-9ff3-0671a7105380",
   "metadata": {
    "execution": {
     "iopub.execute_input": "2022-10-06T13:21:15.419220Z",
     "iopub.status.busy": "2022-10-06T13:21:15.418694Z",
     "iopub.status.idle": "2022-10-06T13:21:15.443046Z",
     "shell.execute_reply": "2022-10-06T13:21:15.439760Z",
     "shell.execute_reply.started": "2022-10-06T13:21:15.419220Z"
    },
    "tags": []
   },
   "outputs": [
    {
     "data": {
      "text/plain": [
       "{'PackageFormatVersion': '3',\n",
       " 'VersionComments': '',\n",
       " 'CreatorName': 'AGDCORP\\\\lroy',\n",
       " 'CreatorComputerName': 'AGDGDAP01',\n",
       " 'CreationDate': '9/18/2012 2:34:07 PM',\n",
       " 'PackageType': '5',\n",
       " 'ProtectionLevel': '1',\n",
       " 'MaxConcurrentExecutables': '-1',\n",
       " 'PackagePriorityClass': '0',\n",
       " 'VersionMajor': '1',\n",
       " 'VersionMinor': '0',\n",
       " 'VersionBuild': '8',\n",
       " 'VersionGUID': '{095CDC48-1E67-4952-9AE0-1BD38C5BF27F}',\n",
       " 'EnableConfig': '0',\n",
       " 'CheckpointFileName': '',\n",
       " 'SaveCheckpoints': '0',\n",
       " 'CheckpointUsage': '0',\n",
       " 'SuppressConfigurationWarnings': '0',\n",
       " 'LastModifiedProductVersion': '10.50.1600.1',\n",
       " 'ForceExecValue': '0',\n",
       " 'ExecValue': '0',\n",
       " 'ForceExecutionResult': '-1',\n",
       " 'Disabled': '0',\n",
       " 'FailPackageOnFailure': '0',\n",
       " 'FailParentOnFailure': '0',\n",
       " 'MaxErrorCount': '1',\n",
       " 'ISOLevel': '1048576',\n",
       " 'LocaleID': '1033',\n",
       " 'TransactionOption': '1',\n",
       " 'DelayValidation': '0',\n",
       " 'ObjectName': 'Transfer_Jobs',\n",
       " 'DTSID': '{B2896BFC-F645-481D-8102-B54966B0176E}',\n",
       " 'Description': '',\n",
       " 'CreationName': 'SSIS.Package.2',\n",
       " 'DisableEventHandlers': '0'}"
      ]
     },
     "execution_count": 5,
     "metadata": {},
     "output_type": "execute_result"
    }
   ],
   "source": [
    "obj.pkgProperties"
   ]
  },
  {
   "cell_type": "code",
   "execution_count": null,
   "id": "cfd8fc2f-290a-4b61-aee5-d969cdcc3510",
   "metadata": {
    "tags": []
   },
   "outputs": [],
   "source": [
    "x = nx.topological_sort(obj._pkgControlFlowNodes)"
   ]
  },
  {
   "cell_type": "code",
   "execution_count": null,
   "id": "12e9814e-f3ab-495a-a3cd-3dd53cb7e4a4",
   "metadata": {},
   "outputs": [],
   "source": [
    "import networkx as nx"
   ]
  },
  {
   "cell_type": "code",
   "execution_count": null,
   "id": "b1fc36ef-8b9e-4742-a871-4a8d414dae03",
   "metadata": {
    "tags": []
   },
   "outputs": [],
   "source": [
    "z = list(x)\n",
    "z"
   ]
  },
  {
   "cell_type": "code",
   "execution_count": null,
   "id": "70ef484d-06ba-4065-8200-e8cdf81d8cd1",
   "metadata": {
    "tags": []
   },
   "outputs": [],
   "source": [
    "z.index('{90f89a42-4ddfd8ab-46d4-af6b-70511abb69af}')"
   ]
  },
  {
   "cell_type": "code",
   "execution_count": null,
   "id": "2d9cee78-a3d3-4f66-a57a-b94dbbcde602",
   "metadata": {
    "tags": []
   },
   "outputs": [],
   "source": [
    "obj.pkgDict['Executable']"
   ]
  },
  {
   "cell_type": "code",
   "execution_count": null,
   "id": "7b80e079-bf3d-4b15-9ab8-1c85350f0143",
   "metadata": {},
   "outputs": [],
   "source": [
    "x = ['PRODDTA.F03B11']"
   ]
  },
  {
   "cell_type": "code",
   "execution_count": null,
   "id": "daba37cf-8a72-4011-96e8-c93ecc19c546",
   "metadata": {
    "tags": []
   },
   "outputs": [],
   "source": [
    "print(str(x)).split('.')"
   ]
  },
  {
   "cell_type": "code",
   "execution_count": 7,
   "id": "3229c621-c07c-4e12-963f-0b5319170601",
   "metadata": {
    "collapsed": true,
    "execution": {
     "iopub.execute_input": "2022-10-06T13:35:56.545215Z",
     "iopub.status.busy": "2022-10-06T13:35:56.544791Z",
     "iopub.status.idle": "2022-10-06T13:35:56.569638Z",
     "shell.execute_reply": "2022-10-06T13:35:56.566653Z",
     "shell.execute_reply.started": "2022-10-06T13:35:56.545215Z"
    },
    "jupyter": {
     "outputs_hidden": true
    },
    "tags": []
   },
   "outputs": [
    {
     "data": {
      "text/plain": [
       "{'{14F05DC7-0EEC-4AB5-BE61-CB0E7AB85E83}': {'Nombre': 'Transfer Logins Task',\n",
       "  'Tipo': 'Microsoft.SqlServer.Dts.Tasks.TransferLoginsTask.TransferLoginsTask',\n",
       "  'Origen': '',\n",
       "  'Variable': '',\n",
       "  'SQL': [],\n",
       "  'Connection': ''},\n",
       " '{121A4298-7CF5-4600-8639-524AF41A482F}': {'Nombre': 'Transfer Jobs Task',\n",
       "  'Tipo': 'Microsoft.SqlServer.Dts.Tasks.TransferJobsTask.TransferJobsTask',\n",
       "  'Origen': '',\n",
       "  'Variable': '',\n",
       "  'SQL': [],\n",
       "  'Connection': ''}}"
      ]
     },
     "execution_count": 7,
     "metadata": {},
     "output_type": "execute_result"
    }
   ],
   "source": [
    "obj.pkgControlFlow"
   ]
  },
  {
   "cell_type": "code",
   "execution_count": 11,
   "id": "7f1f8f70-b4dd-447c-9c39-6dfd73186638",
   "metadata": {
    "execution": {
     "iopub.execute_input": "2022-10-06T13:38:41.500030Z",
     "iopub.status.busy": "2022-10-06T13:38:41.499400Z",
     "iopub.status.idle": "2022-10-06T13:38:41.516446Z",
     "shell.execute_reply": "2022-10-06T13:38:41.513180Z",
     "shell.execute_reply.started": "2022-10-06T13:38:41.500030Z"
    },
    "tags": []
   },
   "outputs": [
    {
     "name": "stdout",
     "output_type": "stream",
     "text": [
      "0\n",
      "1\n"
     ]
    }
   ],
   "source": [
    "for y in obj.pkgControlFlow:\n",
    "    flowSort = obj._pkgControlFlowNodesSorted.index(y)\n",
    "    print(flowSort)\n",
    "    for z in obj.pkgControlFlow[y]['SQL']:\n",
    "        print('-->')"
   ]
  },
  {
   "cell_type": "code",
   "execution_count": null,
   "id": "28dc33e7-b898-45e3-a817-128dc484100a",
   "metadata": {},
   "outputs": [],
   "source": []
  }
 ],
 "metadata": {
  "kernelspec": {
   "display_name": "Python 3 (ipykernel)",
   "language": "python",
   "name": "python3"
  },
  "language_info": {
   "codemirror_mode": {
    "name": "ipython",
    "version": 3
   },
   "file_extension": ".py",
   "mimetype": "text/x-python",
   "name": "python",
   "nbconvert_exporter": "python",
   "pygments_lexer": "ipython3",
   "version": "3.10.0"
  }
 },
 "nbformat": 4,
 "nbformat_minor": 5
}
