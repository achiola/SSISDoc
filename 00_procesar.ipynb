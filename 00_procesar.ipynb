{
 "cells": [
  {
   "cell_type": "code",
   "execution_count": 25,
   "id": "877a2b75-d25c-4155-a36f-eaafe8282f4b",
   "metadata": {
    "execution": {
     "iopub.execute_input": "2022-12-29T16:33:06.225329Z",
     "iopub.status.busy": "2022-12-29T16:33:06.225329Z",
     "iopub.status.idle": "2022-12-29T16:33:06.332615Z",
     "shell.execute_reply": "2022-12-29T16:33:06.329911Z",
     "shell.execute_reply.started": "2022-12-29T16:33:06.225329Z"
    },
    "tags": []
   },
   "outputs": [],
   "source": [
    "import sys\n",
    "try: \n",
    "    del sys.modules[\"ssis\"] \n",
    "    del sys.modules[\"ssis_sql\"]   \n",
    "    del sys.modules[\"ssis_constants\"]     \n",
    "    del sys.modules[\"ssis_getCode\"] \n",
    "    del sys.modules[\"ssis_toDB\"]\n",
    "    del sys.modules[\"ssis_main\"]\n",
    "except: \n",
    "    print('No estaban cargados')\n",
    "import ssis as s\n",
    "import ssis_sql as ss\n",
    "import ssis_constants as sc\n",
    "import ssis_getCode as sgc\n",
    "import ssis_toDB as sdb\n",
    "import ssis_main as sm\n",
    "import numpy as np\n",
    "\n",
    "import warnings\n",
    "warnings.filterwarnings('ignore')\n"
   ]
  },
  {
   "cell_type": "code",
   "execution_count": 26,
   "id": "fb167d59-c65e-477c-be8d-247e9c858837",
   "metadata": {
    "execution": {
     "iopub.execute_input": "2022-12-29T16:33:08.938917Z",
     "iopub.status.busy": "2022-12-29T16:33:08.937916Z",
     "iopub.status.idle": "2022-12-29T16:33:23.741290Z",
     "shell.execute_reply": "2022-12-29T16:33:23.735262Z",
     "shell.execute_reply.started": "2022-12-29T16:33:08.938917Z"
    },
    "tags": []
   },
   "outputs": [
    {
     "name": "stdout",
     "output_type": "stream",
     "text": [
      "Generando token alfresco\n",
      "Procesando  1 / 830 Paquete--> 0E149FC9-1046-4DE6-98BF-4B22ED6F6C42\n",
      "ROOT_msdb\\Data Collector\\\n",
      "Procesando  2 / 830 Paquete--> F389A8E6-5A17-4056-ABFD-C8B823F2092E\n",
      "ROOT_msdb\\Data Collector\\\n",
      "Procesando  3 / 830 Paquete--> 292B1476-0F46-4490-A9B7-6DB724DE3C0B\n",
      "ROOT_msdb\\Data Collector\\\n",
      "Procesando  4 / 830 Paquete--> 6EB73801-39CF-489C-B682-497350C939F0\n",
      "ROOT_msdb\\Data Collector\\\n",
      "Procesando  5 / 830 Paquete--> C2EAABC1-5BF3-4127-BEB3-26E94D026E7D\n",
      "ROOT_msdb\\Data Collector\\\n",
      "Procesando  6 / 830 Paquete--> 08D854CB-0D45-4E96-92C6-227A5DCD7066\n",
      "ROOT_msdb\\Data Collector\\\n",
      "Procesando  7 / 830 Paquete--> 0B68FC9D-23DC-48F3-A937-90A0A8943D0E\n",
      "ROOT_msdb\\Data Collector\\\n",
      "Procesando  8 / 830 Paquete--> 833DB628-8E19-47A3-92C5-FB1779B52E76\n",
      "ROOT_msdb\\Data Collector\\\n",
      "Procesando  9 / 830 Paquete--> 52FC1FB2-43FA-49EF-A9BD-255AF3A88402\n",
      "ROOT_msdb\\Logistica\\\n",
      "Carpeta: /ROOT_msdb/Logistica/\n",
      "archivo temp/Proceso ap01.dtsx\n",
      "nombre Proceso ap01.dtsx\n",
      "Procesando  10 / 830 Paquete--> CF6192EE-7815-4B28-B7DD-EA5916FBB66E\n",
      "ROOT_msdb\\Data Collector\\Generated\\\n",
      "Carpeta: /ROOT_msdb/Data Collector/Generated/\n",
      "archivo temp/PEA - Cargar Stock Insumos.dtsx\n",
      "nombre PEA - Cargar Stock Insumos.dtsx\n",
      "Procesando  11 / 830 Paquete--> EBF42798-0217-444E-A338-BE7C99BA0F97\n",
      "ROOT_msdb\\SSIS_INTEGRATION_PROD\\OCs_F4311_FichadasBiometricos\\\n",
      "Carpeta: /ROOT_msdb/SSIS_INTEGRATION_PROD/OCs_F4311_FichadasBiometricos/\n",
      "archivo temp/OCs_F4311_FichadasBio.dtsx\n",
      "nombre OCs_F4311_FichadasBio.dtsx\n",
      "Procesando  12 / 830 Paquete--> 9FFCD697-CEE7-4442-92C9-3F697EE166EB\n",
      "ROOT_msdb\\Finanzas\\\n",
      "Carpeta: /ROOT_msdb/Finanzas/\n",
      "archivo temp/FNZ - Liquidaciones Acopios.dtsx\n",
      "nombre FNZ - Liquidaciones Acopios.dtsx\n",
      "Procesando  13 / 830 Paquete--> 43CBA084-10EE-4EEF-9BF6-3B1F41C4B6C9\n",
      "ROOT_msdb\\Data Collector\\Generated\\\n",
      "Carpeta: /ROOT_msdb/Data Collector/Generated/\n",
      "archivo temp/IMG - Comunes.dtsx\n",
      "nombre IMG - Comunes.dtsx\n",
      "Procesando  14 / 830 Paquete--> 1C132621-482C-406C-B1B6-D9034B295489\n",
      "ROOT_msdb\\Data Collector\\Generated\\\n",
      "Carpeta: /ROOT_msdb/Data Collector/Generated/\n",
      "archivo temp/IMG - Seguridad JDE812.dtsx\n",
      "nombre IMG - Seguridad JDE812.dtsx\n",
      "Procesando  15 / 830 Paquete--> 50F4BBFB-23BA-40BE-8840-F11220CA7A51\n",
      "ROOT_msdb\\Data Collector\\Generated\\Administracion\\\n",
      "Carpeta: /ROOT_msdb/Data Collector/Generated/Administracion/\n",
      "archivo temp/Comprimir_SSIS.dtsx\n",
      "nombre Comprimir_SSIS.dtsx\n",
      "Procesando  16 / 830 Paquete--> 2F45B580-E487-4C03-8E8C-63BF53C4062A\n",
      "ROOT_msdb\\Data Collector\\Generated\\\n",
      "Carpeta: /ROOT_msdb/Data Collector/Generated/\n",
      "archivo temp/PEA - Produccion.dtsx\n",
      "nombre PEA - Produccion.dtsx\n",
      "Procesando  17 / 830 Paquete--> BCE0C565-484F-40E2-9D64-F21702EDA87D\n"
     ]
    },
    {
     "ename": "KeyboardInterrupt",
     "evalue": "",
     "output_type": "error",
     "traceback": [
      "\u001b[1;31m---------------------------------------------------------------------------\u001b[0m",
      "\u001b[1;31mKeyboardInterrupt\u001b[0m                         Traceback (most recent call last)",
      "\u001b[1;32m~\\AppData\\Local\\Temp\\ipykernel_24888\\3349510718.py\u001b[0m in \u001b[0;36m<module>\u001b[1;34m\u001b[0m\n\u001b[1;32m----> 1\u001b[1;33m \u001b[0msm\u001b[0m\u001b[1;33m.\u001b[0m\u001b[0mprocesar_msdb\u001b[0m\u001b[1;33m(\u001b[0m\u001b[1;33m)\u001b[0m\u001b[1;33m\u001b[0m\u001b[1;33m\u001b[0m\u001b[0m\n\u001b[0m\u001b[0;32m      2\u001b[0m \u001b[0mprint\u001b[0m\u001b[1;33m(\u001b[0m\u001b[1;34m'------------------------ FIN -----------------------'\u001b[0m\u001b[1;33m)\u001b[0m\u001b[1;33m\u001b[0m\u001b[1;33m\u001b[0m\u001b[0m\n",
      "\u001b[1;32mC:\\proyectos\\python\\ssis\\ssis_main.py\u001b[0m in \u001b[0;36mprocesar_msdb\u001b[1;34m()\u001b[0m\n\u001b[0;32m     62\u001b[0m                 \u001b[0mpath\u001b[0m \u001b[1;33m=\u001b[0m \u001b[0msgc\u001b[0m\u001b[1;33m.\u001b[0m\u001b[0mgetSSISPath\u001b[0m\u001b[1;33m(\u001b[0m\u001b[0mrow\u001b[0m\u001b[1;33m[\u001b[0m\u001b[1;36m0\u001b[0m\u001b[1;33m]\u001b[0m\u001b[1;33m)\u001b[0m\u001b[1;33m\u001b[0m\u001b[1;33m\u001b[0m\u001b[0m\n\u001b[0;32m     63\u001b[0m                 \u001b[1;31m#try:\u001b[0m\u001b[1;33m\u001b[0m\u001b[1;33m\u001b[0m\u001b[0m\n\u001b[1;32m---> 64\u001b[1;33m                 \u001b[0msdb\u001b[0m\u001b[1;33m.\u001b[0m\u001b[0msendPKG\u001b[0m\u001b[1;33m(\u001b[0m\u001b[0mobj\u001b[0m\u001b[1;33m,\u001b[0m \u001b[0mpath\u001b[0m\u001b[1;33m)\u001b[0m\u001b[1;33m\u001b[0m\u001b[1;33m\u001b[0m\u001b[0m\n\u001b[0m\u001b[0;32m     65\u001b[0m                 \u001b[1;31m#except:\u001b[0m\u001b[1;33m\u001b[0m\u001b[1;33m\u001b[0m\u001b[0m\n\u001b[0;32m     66\u001b[0m                 \u001b[1;31m#    print('No se ha enviado a DB')\u001b[0m\u001b[1;33m\u001b[0m\u001b[1;33m\u001b[0m\u001b[0m\n",
      "\u001b[1;32mC:\\proyectos\\python\\ssis\\ssis_toDB.py\u001b[0m in \u001b[0;36msendPKG\u001b[1;34m(obj, path)\u001b[0m\n\u001b[0;32m     39\u001b[0m         \u001b[0mpkgConnections\u001b[0m\u001b[1;33m(\u001b[0m\u001b[0mpkgID\u001b[0m\u001b[1;33m,\u001b[0m \u001b[0mpkgVersion\u001b[0m\u001b[1;33m,\u001b[0m \u001b[0mobj\u001b[0m\u001b[1;33m.\u001b[0m\u001b[0mpkgConnections\u001b[0m\u001b[1;33m)\u001b[0m\u001b[1;33m\u001b[0m\u001b[1;33m\u001b[0m\u001b[0m\n\u001b[0;32m     40\u001b[0m         \u001b[0mpkgVariables\u001b[0m\u001b[1;33m(\u001b[0m\u001b[0mpkgID\u001b[0m\u001b[1;33m,\u001b[0m \u001b[0mpkgVersion\u001b[0m\u001b[1;33m,\u001b[0m \u001b[0mobj\u001b[0m\u001b[1;33m.\u001b[0m\u001b[0mpkgVariables\u001b[0m\u001b[1;33m)\u001b[0m\u001b[1;33m\u001b[0m\u001b[1;33m\u001b[0m\u001b[0m\n\u001b[1;32m---> 41\u001b[1;33m         \u001b[0mpkgFlow\u001b[0m\u001b[1;33m(\u001b[0m\u001b[0mpkgID\u001b[0m\u001b[1;33m,\u001b[0m \u001b[0mpkgVersion\u001b[0m\u001b[1;33m,\u001b[0m \u001b[0mobj\u001b[0m\u001b[1;33m.\u001b[0m\u001b[0mpkgControlFlow\u001b[0m\u001b[1;33m,\u001b[0m \u001b[0mobj\u001b[0m\u001b[1;33m.\u001b[0m\u001b[0m_pkgControlFlowNodesSorted\u001b[0m\u001b[1;33m)\u001b[0m\u001b[1;33m\u001b[0m\u001b[1;33m\u001b[0m\u001b[0m\n\u001b[0m\u001b[0;32m     42\u001b[0m     \u001b[1;32melse\u001b[0m\u001b[1;33m:\u001b[0m\u001b[1;33m\u001b[0m\u001b[1;33m\u001b[0m\u001b[0m\n\u001b[0;32m     43\u001b[0m         \u001b[0mprint\u001b[0m\u001b[1;33m(\u001b[0m\u001b[1;34m'Error recuperando propiedades y persistiendo pkg'\u001b[0m\u001b[1;33m)\u001b[0m\u001b[1;33m\u001b[0m\u001b[1;33m\u001b[0m\u001b[0m\n",
      "\u001b[1;32mC:\\proyectos\\python\\ssis\\ssis_toDB.py\u001b[0m in \u001b[0;36mpkgFlow\u001b[1;34m(pkgID, pkgVersion, flow, flowSorted)\u001b[0m\n\u001b[0;32m    156\u001b[0m                     )                    \n\u001b[0;32m    157\u001b[0m             \u001b[0mi\u001b[0m\u001b[1;33m+=\u001b[0m\u001b[1;36m1\u001b[0m\u001b[1;33m\u001b[0m\u001b[1;33m\u001b[0m\u001b[0m\n\u001b[1;32m--> 158\u001b[1;33m             \u001b[0mconn\u001b[0m\u001b[1;33m.\u001b[0m\u001b[0mcommit\u001b[0m\u001b[1;33m(\u001b[0m\u001b[1;33m)\u001b[0m\u001b[1;33m\u001b[0m\u001b[1;33m\u001b[0m\u001b[0m\n\u001b[0m\u001b[0;32m    159\u001b[0m     \u001b[1;31m#except Exception as e:\u001b[0m\u001b[1;33m\u001b[0m\u001b[1;33m\u001b[0m\u001b[0m\n\u001b[0;32m    160\u001b[0m     \u001b[1;31m#    print(e)\u001b[0m\u001b[1;33m\u001b[0m\u001b[1;33m\u001b[0m\u001b[0m\n",
      "\u001b[1;31mKeyboardInterrupt\u001b[0m: "
     ]
    }
   ],
   "source": [
    "sm.procesar_msdb()\n",
    "print('------------------------ FIN -----------------------')"
   ]
  },
  {
   "cell_type": "code",
   "execution_count": null,
   "id": "1aa0033e-cd8e-4e97-88f8-4c97f547cf77",
   "metadata": {
    "tags": []
   },
   "outputs": [],
   "source": [
    "#path = '\\\\\\\\agdgdap01\\\\g$\\\\SSIS_Desarrollo_ok\\\\Bienes de cambio V3'\n",
    "# sm.procesar_directorio(path)\n",
    "print('------------------------ FIN -----------------------')"
   ]
  },
  {
   "cell_type": "code",
   "execution_count": null,
   "id": "0adc9d6b-916e-42be-afeb-b4ab5af68a49",
   "metadata": {
    "tags": []
   },
   "outputs": [],
   "source": [
    "#path = '\\\\\\\\agdgdap01\\\\g$\\\\SSIS_Productivo_ok'\n",
    "#path = '\\\\\\\\agdgdap01\\\\g$\\\\SSIS_Productivo_ok\\\\Mantenimiento\\\\Administracion_SSIS'\n",
    "#sm.procesar_directorio(path)\n",
    "print('------------------------ FIN -----------------------')"
   ]
  },
  {
   "cell_type": "code",
   "execution_count": null,
   "id": "8ff49431-9224-4fe6-a4e3-b3c72c2b2a55",
   "metadata": {
    "tags": []
   },
   "outputs": [],
   "source": [
    "path = '\\\\\\\\agdgdap01\\\\g$\\\\SSIS_Productivo_ok\\\\Mantenimiento\\\\Administracion_SSIS\\\\Administracion_SSIS'\n",
    "sm.procesar_directorio(path)\n",
    "print('------------------------ FIN -----------------------')"
   ]
  },
  {
   "cell_type": "code",
   "execution_count": null,
   "id": "f9d7cd01-e058-495c-8e05-390598984843",
   "metadata": {
    "tags": []
   },
   "outputs": [],
   "source": [
    "x = '\\\\agdgdap01\\g$\\SSIS_Productivo_ok\\Mantenimiento\\Administracion_SSIS\\Administracion_SSIS\\Comprimir_Archivos_ETL.dtsx'"
   ]
  },
  {
   "cell_type": "code",
   "execution_count": null,
   "id": "34c1bb62-db14-48fe-a2d7-c731276af545",
   "metadata": {
    "tags": []
   },
   "outputs": [],
   "source": [
    "f = x.split('\\\\')"
   ]
  },
  {
   "cell_type": "code",
   "execution_count": null,
   "id": "393cecf5-9b2c-46a9-898c-b0358776f3b5",
   "metadata": {
    "tags": []
   },
   "outputs": [],
   "source": [
    "folder = ''\n",
    "for e in f[1:-1]:\n",
    "    folder += '/' + e"
   ]
  },
  {
   "cell_type": "code",
   "execution_count": null,
   "id": "8f2cee0d-66ba-4ac1-9a34-772fde7ad6e7",
   "metadata": {
    "tags": []
   },
   "outputs": [],
   "source": [
    "\"AGRO_CARGAR_A0_AGRO_ESTADOS_RENGLON_CONTROL_INVENTARIO.dtsx\"[:-5]"
   ]
  },
  {
   "cell_type": "code",
   "execution_count": null,
   "id": "d4cfafb5-0525-4b48-b968-e0c435cab1b4",
   "metadata": {
    "tags": []
   },
   "outputs": [],
   "source": [
    "from datetime import datetime"
   ]
  },
  {
   "cell_type": "code",
   "execution_count": null,
   "id": "1819b00c-e84a-4774-818a-6aa4d56c70b1",
   "metadata": {
    "tags": []
   },
   "outputs": [],
   "source": [
    "ts = datetime.now()"
   ]
  },
  {
   "cell_type": "code",
   "execution_count": null,
   "id": "2979115f-24a5-499a-bc4a-e153f6a3c681",
   "metadata": {
    "tags": []
   },
   "outputs": [],
   "source": [
    "ts2 = datetime.now()\n",
    "td = (ts2 - ts).total_seconds() / 60\n",
    "print(ts, ts2, td)"
   ]
  },
  {
   "cell_type": "code",
   "execution_count": null,
   "id": "dc4d0f04-0a1d-499f-9479-67ef3a770edc",
   "metadata": {
    "tags": []
   },
   "outputs": [],
   "source": []
  },
  {
   "cell_type": "code",
   "execution_count": null,
   "id": "b737ff2e-e468-433e-b259-4ebd0517ea51",
   "metadata": {},
   "outputs": [],
   "source": []
  }
 ],
 "metadata": {
  "kernelspec": {
   "display_name": "Python 3 (ipykernel)",
   "language": "python",
   "name": "python3"
  },
  "language_info": {
   "codemirror_mode": {
    "name": "ipython",
    "version": 3
   },
   "file_extension": ".py",
   "mimetype": "text/x-python",
   "name": "python",
   "nbconvert_exporter": "python",
   "pygments_lexer": "ipython3",
   "version": "3.9.13"
  }
 },
 "nbformat": 4,
 "nbformat_minor": 5
}
