{
 "cells": [
  {
   "cell_type": "code",
   "execution_count": 8,
   "id": "3f0fcc1e-b7d1-4b04-8201-80d66030f0cc",
   "metadata": {
    "execution": {
     "iopub.execute_input": "2022-08-24T18:00:45.844506Z",
     "iopub.status.busy": "2022-08-24T18:00:45.834033Z",
     "iopub.status.idle": "2022-08-24T18:00:45.925926Z",
     "shell.execute_reply": "2022-08-24T18:00:45.920424Z",
     "shell.execute_reply.started": "2022-08-24T18:00:45.843501Z"
    },
    "tags": []
   },
   "outputs": [],
   "source": [
    "import ssis"
   ]
  },
  {
   "cell_type": "code",
   "execution_count": 9,
   "id": "89365e94-25c6-4534-8620-013a81e1af3b",
   "metadata": {
    "execution": {
     "iopub.execute_input": "2022-08-24T18:00:47.075403Z",
     "iopub.status.busy": "2022-08-24T18:00:47.074401Z",
     "iopub.status.idle": "2022-08-24T18:00:47.150755Z",
     "shell.execute_reply": "2022-08-24T18:00:47.147753Z",
     "shell.execute_reply.started": "2022-08-24T18:00:47.075403Z"
    },
    "tags": []
   },
   "outputs": [
    {
     "name": "stdout",
     "output_type": "stream",
     "text": [
      "---------------------------------------------------------------\n",
      "-- Procesando: data/01_basico.dtsx\n",
      "-- Leyendo propiedades\n",
      "-- Leyendo conexiones\n",
      "-- Leyendo Pipe Lines\n",
      "---------------------------------------------------------------\n"
     ]
    }
   ],
   "source": [
    "a = ssis.MySSIS('data/01_basico.dtsx')"
   ]
  },
  {
   "cell_type": "code",
   "execution_count": 10,
   "id": "e820414b-59fb-4f9a-9c20-41e92ea88078",
   "metadata": {
    "execution": {
     "iopub.execute_input": "2022-08-24T18:01:07.204248Z",
     "iopub.status.busy": "2022-08-24T18:01:07.203247Z",
     "iopub.status.idle": "2022-08-24T18:01:07.242484Z",
     "shell.execute_reply": "2022-08-24T18:01:07.237084Z",
     "shell.execute_reply.started": "2022-08-24T18:01:07.204248Z"
    },
    "tags": []
   },
   "outputs": [
    {
     "name": "stdout",
     "output_type": "stream",
     "text": [
      "-----------------------------------------------------------------------------\n",
      "-- Paquete:  01_basico (ID: {1326A0E7-71B9-4987-B9B4-B2EA2CC893EB} )\n",
      "-- Recuperado desde:  data/01_basico.dtsx\n",
      "-----------------------------------------------------------------------------\n",
      "-- Conecciones:\n",
      "    **  agdgdap01,1065.DWCORP {AB0141B7-0FD9-4C31-8CE8-4C789AB32BC5}\n",
      "    **  agdgdbd02.Staging {9EC07AFB-F117-4C7C-9708-D200560034E7}\n",
      "-----------------------------------------------------------------------------\n"
     ]
    }
   ],
   "source": [
    "a.printObject()"
   ]
  },
  {
   "cell_type": "code",
   "execution_count": 7,
   "id": "f57b0b82-506f-46f2-8c3c-e69635380eed",
   "metadata": {
    "execution": {
     "iopub.execute_input": "2022-08-24T16:59:24.109541Z",
     "iopub.status.busy": "2022-08-24T16:59:24.109042Z",
     "iopub.status.idle": "2022-08-24T16:59:24.161722Z",
     "shell.execute_reply": "2022-08-24T16:59:24.154126Z",
     "shell.execute_reply.started": "2022-08-24T16:59:24.109541Z"
    },
    "tags": []
   },
   "outputs": [
    {
     "data": {
      "text/plain": [
       "{'': '', '{44E53819-2836-4B88-87BB-B3F6ED830BCE}': ''}"
      ]
     },
     "execution_count": 7,
     "metadata": {},
     "output_type": "execute_result"
    }
   ],
   "source": [
    "a.pkg_pipelines"
   ]
  },
  {
   "cell_type": "code",
   "execution_count": 11,
   "id": "eea4e4cc-1d2a-4359-889d-3bedce75833e",
   "metadata": {
    "execution": {
     "iopub.execute_input": "2022-08-24T18:01:54.958498Z",
     "iopub.status.busy": "2022-08-24T18:01:54.958498Z",
     "iopub.status.idle": "2022-08-24T18:01:54.993636Z",
     "shell.execute_reply": "2022-08-24T18:01:54.991857Z",
     "shell.execute_reply.started": "2022-08-24T18:01:54.958498Z"
    }
   },
   "outputs": [
    {
     "data": {
      "text/plain": [
       "'1'"
      ]
     },
     "execution_count": 11,
     "metadata": {},
     "output_type": "execute_result"
    }
   ],
   "source": [
    "a"
   ]
  },
  {
   "cell_type": "code",
   "execution_count": null,
   "id": "6cc46afb-b73f-4bde-8d7a-aa608c236092",
   "metadata": {},
   "outputs": [],
   "source": []
  }
 ],
 "metadata": {
  "kernelspec": {
   "display_name": "Python 3 (ipykernel)",
   "language": "python",
   "name": "python3"
  },
  "language_info": {
   "codemirror_mode": {
    "name": "ipython",
    "version": 3
   },
   "file_extension": ".py",
   "mimetype": "text/x-python",
   "name": "python",
   "nbconvert_exporter": "python",
   "pygments_lexer": "ipython3",
   "version": "3.10.0"
  }
 },
 "nbformat": 4,
 "nbformat_minor": 5
}
