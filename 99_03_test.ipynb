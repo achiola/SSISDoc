{
 "cells": [
  {
   "cell_type": "code",
   "execution_count": 1,
   "id": "f5608070-a8f4-4e31-a9a8-cb9dd20b0369",
   "metadata": {
    "execution": {
     "iopub.execute_input": "2022-08-31T14:54:38.085668Z",
     "iopub.status.busy": "2022-08-31T14:54:38.083668Z",
     "iopub.status.idle": "2022-08-31T14:54:38.217166Z",
     "shell.execute_reply": "2022-08-31T14:54:38.215691Z",
     "shell.execute_reply.started": "2022-08-31T14:54:38.085668Z"
    },
    "tags": []
   },
   "outputs": [],
   "source": [
    "import ssis_sql as ss"
   ]
  },
  {
   "cell_type": "code",
   "execution_count": 2,
   "id": "a106f0ad-f50a-4c7a-b7b4-5f87364b059a",
   "metadata": {
    "execution": {
     "iopub.execute_input": "2022-08-31T14:54:38.219148Z",
     "iopub.status.busy": "2022-08-31T14:54:38.218161Z",
     "iopub.status.idle": "2022-08-31T14:54:38.234409Z",
     "shell.execute_reply": "2022-08-31T14:54:38.231927Z",
     "shell.execute_reply.started": "2022-08-31T14:54:38.219148Z"
    },
    "tags": []
   },
   "outputs": [],
   "source": [
    "stmt = \"IF NOT EXISTS ( SELECT [ID] FROM TEMPDB..SYSOBJECTS WHERE ID = OBJECT_ID('TEMPDB..##TMP_RESULTADO_KIL16A') AND TYPE = 'U') BEGIN CREATE TABLE ##TMP_RESULTADO_KIL16A ( [PLANTA] INT, [PRODUCTO] VARCHAR(5), [COSECHA] VARCHAR(4), [KIL16A_WORK3] INT ); END\""
   ]
  },
  {
   "cell_type": "code",
   "execution_count": 3,
   "id": "7353ceb5-b77b-469f-ac0e-0830772a8607",
   "metadata": {
    "execution": {
     "iopub.execute_input": "2022-08-31T14:54:38.240972Z",
     "iopub.status.busy": "2022-08-31T14:54:38.240513Z",
     "iopub.status.idle": "2022-08-31T14:54:38.281242Z",
     "shell.execute_reply": "2022-08-31T14:54:38.278123Z",
     "shell.execute_reply.started": "2022-08-31T14:54:38.240972Z"
    },
    "tags": []
   },
   "outputs": [
    {
     "name": "stdout",
     "output_type": "stream",
     "text": [
      "['CREATE', 'CREATE TABLE ##TMP_RESULTADO_KIL16A ( [PLANTA] INT, [PRODUCTO] VARCHAR(5), [COSECHA] VARCHAR(4), [KIL16A_WORK3] INT );', [], []]\n",
      "Se crea la tabla ##TMP_RESULTADO_KIL16A\n"
     ]
    }
   ],
   "source": [
    "r = ss.parseSQLMain(lType='IF', lSql=stmt)"
   ]
  },
  {
   "cell_type": "code",
   "execution_count": null,
   "id": "009151ae-bbc1-4c2b-8dd5-d4344e41d885",
   "metadata": {
    "tags": []
   },
   "outputs": [],
   "source": [
    "r[0]"
   ]
  },
  {
   "cell_type": "code",
   "execution_count": null,
   "id": "4be98578-c75d-4641-8235-113cbbccd6b7",
   "metadata": {},
   "outputs": [],
   "source": [
    "r[1]"
   ]
  },
  {
   "cell_type": "code",
   "execution_count": 47,
   "id": "29b45ddd-b2d7-4ca2-8985-5ee4a0119807",
   "metadata": {
    "execution": {
     "iopub.execute_input": "2022-09-01T19:20:56.609592Z",
     "iopub.status.busy": "2022-09-01T19:20:56.609592Z",
     "iopub.status.idle": "2022-09-01T19:20:56.627740Z",
     "shell.execute_reply": "2022-09-01T19:20:56.626752Z",
     "shell.execute_reply.started": "2022-09-01T19:20:56.609592Z"
    },
    "tags": []
   },
   "outputs": [],
   "source": [
    "texto = 'linea 1 \\n linea 2 ---- esto es un comentario\\n linea 3'"
   ]
  },
  {
   "cell_type": "code",
   "execution_count": 48,
   "id": "d8993209-d3b2-48ff-a62a-ee0a45e7d915",
   "metadata": {
    "execution": {
     "iopub.execute_input": "2022-09-01T19:20:56.939012Z",
     "iopub.status.busy": "2022-09-01T19:20:56.938440Z",
     "iopub.status.idle": "2022-09-01T19:20:56.957293Z",
     "shell.execute_reply": "2022-09-01T19:20:56.953643Z",
     "shell.execute_reply.started": "2022-09-01T19:20:56.939012Z"
    },
    "tags": []
   },
   "outputs": [
    {
     "data": {
      "text/plain": [
       "'linea 1 \\n linea 2 \\n linea 3'"
      ]
     },
     "execution_count": 48,
     "metadata": {},
     "output_type": "execute_result"
    }
   ],
   "source": [
    "limpiarComenatios(texto)"
   ]
  },
  {
   "cell_type": "code",
   "execution_count": 46,
   "id": "f78ffecc-1b29-47df-969b-7f3891bb1908",
   "metadata": {
    "execution": {
     "iopub.execute_input": "2022-09-01T19:20:53.156450Z",
     "iopub.status.busy": "2022-09-01T19:20:53.155325Z",
     "iopub.status.idle": "2022-09-01T19:20:53.207406Z",
     "shell.execute_reply": "2022-09-01T19:20:53.202697Z",
     "shell.execute_reply.started": "2022-09-01T19:20:53.156450Z"
    },
    "tags": []
   },
   "outputs": [],
   "source": [
    "def limpiarComenatios(texto):\n",
    "    lineas = texto.splitlines()\n",
    "    lineaLimpia = []\n",
    "    for l in lineas:\n",
    "        i = l.find('--')\n",
    "        if i >0:\n",
    "            l=l[0:i]\n",
    "        lineaLimpia.append(l)\n",
    "    return '\\n'.join(lineaLimpia)\n",
    "    "
   ]
  },
  {
   "cell_type": "code",
   "execution_count": 42,
   "id": "df56a844-f1c6-4e9f-ae58-ffdc8fa1810a",
   "metadata": {
    "execution": {
     "iopub.execute_input": "2022-09-01T19:19:32.187635Z",
     "iopub.status.busy": "2022-09-01T19:19:32.186607Z",
     "iopub.status.idle": "2022-09-01T19:19:32.253696Z",
     "shell.execute_reply": "2022-09-01T19:19:32.247765Z",
     "shell.execute_reply.started": "2022-09-01T19:19:32.187635Z"
    },
    "tags": []
   },
   "outputs": [
    {
     "ename": "TypeError",
     "evalue": "str.join() takes exactly one argument (0 given)",
     "output_type": "error",
     "traceback": [
      "\u001b[1;31m---------------------------------------------------------------------------\u001b[0m",
      "\u001b[1;31mTypeError\u001b[0m                                 Traceback (most recent call last)",
      "\u001b[1;32m~\\AppData\\Local\\Temp/ipykernel_2904/4186190879.py\u001b[0m in \u001b[0;36m<module>\u001b[1;34m\u001b[0m\n\u001b[1;32m----> 1\u001b[1;33m \u001b[0mtexto\u001b[0m\u001b[1;33m.\u001b[0m\u001b[0mjoin\u001b[0m\u001b[1;33m(\u001b[0m\u001b[1;33m)\u001b[0m\u001b[1;33m\u001b[0m\u001b[1;33m\u001b[0m\u001b[0m\n\u001b[0m",
      "\u001b[1;31mTypeError\u001b[0m: str.join() takes exactly one argument (0 given)"
     ]
    }
   ],
   "source": [
    "texto.join()"
   ]
  },
  {
   "cell_type": "code",
   "execution_count": 17,
   "id": "2e36e951-0bd0-4642-b830-0b65e01415b7",
   "metadata": {
    "execution": {
     "iopub.execute_input": "2022-09-01T18:47:16.358834Z",
     "iopub.status.busy": "2022-09-01T18:47:16.357007Z",
     "iopub.status.idle": "2022-09-01T18:47:16.375407Z",
     "shell.execute_reply": "2022-09-01T18:47:16.371518Z",
     "shell.execute_reply.started": "2022-09-01T18:47:16.358834Z"
    }
   },
   "outputs": [],
   "source": [
    "l = 'xxxxxxxx'"
   ]
  },
  {
   "cell_type": "code",
   "execution_count": null,
   "id": "0124e740-488b-4b3e-82d4-dea0fa4b2b1d",
   "metadata": {},
   "outputs": [],
   "source": []
  }
 ],
 "metadata": {
  "kernelspec": {
   "display_name": "Python 3 (ipykernel)",
   "language": "python",
   "name": "python3"
  },
  "language_info": {
   "codemirror_mode": {
    "name": "ipython",
    "version": 3
   },
   "file_extension": ".py",
   "mimetype": "text/x-python",
   "name": "python",
   "nbconvert_exporter": "python",
   "pygments_lexer": "ipython3",
   "version": "3.9.13"
  }
 },
 "nbformat": 4,
 "nbformat_minor": 5
}
